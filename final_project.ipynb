{
 "cells": [
  {
   "cell_type": "code",
   "execution_count": 1,
   "metadata": {},
   "outputs": [],
   "source": [
    "import urllib3\n",
    "import urllib.request\n",
    "import numpy as np\n",
    "from bs4 import BeautifulSoup #https://stackoverflow.com/questions/11023530/python-to-list-http-files-and-directories\n",
    "import requests\n",
    "import os\n",
    "import pandas as pd\n",
    "import matplotlib.pyplot as plt\n",
    "from sklearn.linear_model import LinearRegression\n",
    "from sklearn.model_selection import train_test_split\n",
    "from sklearn.model_selection import KFold\n",
    "from sklearn.model_selection import cross_val_score, cross_val_predict\n",
    "from sklearn import datasets, linear_model\n",
    "from sklearn import metrics\n",
    "\n",
    "column_names = {'local_relative_humidity': 30, 'local_relative_humidity_uncertainty': 32}    \n",
    "base_url = 'https://atmos.nmsu.edu/PDS/data/mslrem_1001/DATA/'\n",
    "sol_epoch_starts = np.array([1, 90, 180, 270, 360, 450, 584, 708, 805, 939, 1063, 1160, 1294, 1418, 1515, 1649, 1773, 1870, 2004, 2128, 2225, 2359])\n",
    "# num_epochs = sol_epoch_starts.size - 1\n",
    "num_epochs = 1\n",
    "\n",
    "def listFD(url, ext=''):\n",
    "    page = requests.get(url).text\n",
    "    soup = BeautifulSoup(page, 'html.parser')\n",
    "    return [url + '/' + node.get('href') for node in soup.find_all('a') if node.get('href').endswith(ext)]\n",
    "\n",
    "def get_epoch_name(index):\n",
    "    string1 = str(sol_epoch_starts[index]) \n",
    "    string2 = str(sol_epoch_starts[index+1] - 1)\n",
    "    string1 = '0' * (5 - len(string1)) + string1    \n",
    "    string2 = '0' * (5 - len(string2)) + string2\n",
    "    entire_string = 'SOL_' + string1 + '_' + string2\n",
    "    return entire_string  \n",
    "\n",
    "def get_sol_name(sol_num):\n",
    "    string = str(sol_num)\n",
    "    string = 'SOL' + '0' * (5 - len(string)) + string\n",
    "    return string\n",
    "\n",
    "http = urllib3.PoolManager()\n",
    "r2_temp1s = []\n",
    "temp1_accuracies = []\n",
    "r2_temp2s = []\n",
    "temp2_accuracies = []\n",
    "r2_ambtemps = []\n",
    "ambtemp_accuracies = []\n",
    "r2_alltemps = []\n",
    "alltemps_accuracies = []\n",
    "r2_pressures = []\n",
    "press_accuracies = []\n",
    "r2_alls = []\n",
    "all_accuracies = []\n",
    "\n",
    "lm = linear_model.LinearRegression() "
   ]
  },
  {
   "cell_type": "code",
   "execution_count": 4,
   "metadata": {},
   "outputs": [
    {
     "name": "stdout",
     "output_type": "stream",
     "text": [
      "1-89 Sols\n",
      "R^2 for Boom 1 Temperature: 0.608591468035422\n",
      "R^2 for Boom 2 Temperature: 0.7253220904412425\n",
      "R^2 for Ambient Temperature: 0.579687781461556\n",
      "R^2 for Pressure: -0.16808231688484815\n",
      "R^2 for All Temperatures: 0.732016063124501\n",
      "R^2 for All: 0.7349206545334027\n"
     ]
    }
   ],
   "source": [
    "#1-89 Sols\n",
    "sol_epoch_starts = np.array([1, 90, 180, 270, 360, 450, 584, 708, 805, 939, 1063, 1160, 1294, 1418, 1515, 1649, 1773, 1870, 2004, 2128, 2225, 2359])\n",
    "\n",
    "data_all = []\n",
    "for epoch_index in range(num_epochs):                            \n",
    "    epoch_file_name = get_epoch_name(epoch_index)\n",
    "    for sol_number in range(sol_epoch_starts[epoch_index], sol_epoch_starts[epoch_index+1]):\n",
    "        sol_file_name = get_sol_name(sol_number)\n",
    "        entire_url = base_url + epoch_file_name + '/' + sol_file_name\n",
    "        entire_list = listFD(entire_url)\n",
    "        for file_name in entire_list:\n",
    "            if ('RMD' in file_name) and ('TAB' in file_name):\n",
    "                final_file_name = file_name\n",
    "                r = http.request('GET', final_file_name)\n",
    "                data = r.data.decode('utf-8')\n",
    "                data = data.split('\\n')\n",
    "                data_all += [line.split(',') for line in data]\n",
    "                break\n",
    "\n",
    "df = pd.DataFrame(data_all)\n",
    "df = df[[0, 11, 12, 13, 14, 15, 16, 30, 31, 32, 37, 38, 39]]\n",
    "df = df.replace('    UNK', np.nan)\n",
    "df = df.dropna()\n",
    "df[[11,13,15,30,37]] = df[[11,13,15,30,37]].apply(pd.to_numeric)\n",
    "\n",
    "name_dict = {11:'boom1_local_air_temperature', 30: 'local_relative_humidity', 13:'boom2_local_air_temperature', 37: 'pressure', 15: 'ambient_temperature'}\n",
    "new_df = df.rename(name_dict, axis = 1)\n",
    "rel_humidity = new_df[['local_relative_humidity']].values.reshape(-1,1)\n",
    "\n",
    "#5-fold cross validation\n",
    "ground_temp_1 = new_df[['boom1_local_air_temperature']].values.reshape(-1,1) # values converts it into a numpy array\n",
    "ground_temp_1_train, ground_temp_1_test, rel_hum_train, rel_hum_test = train_test_split(ground_temp_1, rel_humidity, test_size=0.3, random_state=42)\n",
    "model = lm.fit(ground_temp_1_train, rel_hum_train)\n",
    "scores = cross_val_score(model, ground_temp_1, rel_humidity, cv=5)\n",
    "r2_temp1 = np.average(scores)\n",
    "predictions = cross_val_predict(model, ground_temp_1, rel_humidity, cv=5)\n",
    "accuracy = metrics.r2_score(rel_humidity, predictions)\n",
    "temp1_accuracies.append(accuracy)\n",
    "r2_temp1s.append(r2_temp1)\n",
    "\n",
    "\n",
    "ground_temp_2 = new_df[['boom2_local_air_temperature']].values.reshape(-1,1) \n",
    "ground_temp_2_train, ground_temp_2_test, rel_hum_train, rel_hum_test = train_test_split(ground_temp_2, rel_humidity, test_size=0.3, random_state=42)\n",
    "model = lm.fit(ground_temp_2_train, rel_hum_train)\n",
    "scores = cross_val_score(model, ground_temp_2, rel_humidity, cv=5)\n",
    "r2_temp2 = np.average(scores)\n",
    "predictions = cross_val_predict(model, ground_temp_2, rel_humidity, cv=5)\n",
    "accuracy = metrics.r2_score(rel_humidity, predictions)\n",
    "temp2_accuracies.append(accuracy)\n",
    "r2_temp2s.append(r2_temp2)\n",
    "\n",
    "\n",
    "amb_temp = new_df[['ambient_temperature']].values.reshape(-1,1)\n",
    "amb_temp_train, amb_temp_test, rel_hum_train, rel_hum_test = train_test_split(amb_temp, rel_humidity, test_size=0.3, random_state=42)\n",
    "model = lm.fit(amb_temp_train, rel_hum_train)\n",
    "scores = cross_val_score(model, amb_temp, rel_humidity, cv=5)\n",
    "r2_amb_temp = np.average(scores)\n",
    "predictions = cross_val_predict(model, amb_temp, rel_humidity, cv=5)\n",
    "accuracy = metrics.r2_score(rel_humidity, predictions)\n",
    "ambtemp_accuracies.append(accuracy)\n",
    "r2_ambtemps.append(r2_amb_temp)\n",
    "\n",
    "press = new_df[['pressure']].values.reshape(-1,1) \n",
    "press_train, press_test, rel_hum_train, rel_hum_test = train_test_split(press, rel_humidity, test_size=0.3, random_state=42)\n",
    "model = lm.fit(press_train, rel_hum_train)\n",
    "scores = cross_val_score(model, press, rel_humidity, cv=5)\n",
    "r2_press = np.average(scores)\n",
    "predictions = cross_val_predict(model, press, rel_humidity, cv=5)\n",
    "accuracy = metrics.r2_score(rel_humidity, predictions)\n",
    "press_accuracies.append(accuracy)\n",
    "r2_pressures.append(r2_press)\n",
    "\n",
    "all_temp_x = new_df[['boom1_local_air_temperature','boom2_local_air_temperature','ambient_temperature']].values\n",
    "all_temp_x_train, all_temp_x_test, rel_hum_train, rel_hum_test = train_test_split(all_temp_x, rel_humidity, test_size=0.3, random_state=42)\n",
    "model = lm.fit(all_temp_x_train, rel_hum_train)\n",
    "scores = cross_val_score(model, all_temp_x, rel_humidity, cv=5)\n",
    "r2_all_temps = np.average(scores)\n",
    "predictions = cross_val_predict(model, all_temp_x, rel_humidity, cv=5)\n",
    "accuracy = metrics.r2_score(rel_humidity, predictions)\n",
    "alltemps_accuracies.append(accuracy)\n",
    "r2_alltemps.append(r2_all_temps)\n",
    "\n",
    "\n",
    "all_x = new_df[['boom1_local_air_temperature','boom2_local_air_temperature','ambient_temperature', 'pressure']].values\n",
    "all_train, all_test, rel_hum_train, rel_hum_test = train_test_split(all_x, rel_humidity, test_size=0.3, random_state=42)\n",
    "model = lm.fit(all_train, rel_hum_train)\n",
    "scores = cross_val_score(model, all_x, rel_humidity, cv=5)\n",
    "r2_all = np.average(scores)\n",
    "predictions = cross_val_predict(model, all_x, rel_humidity, cv=5)\n",
    "accuracy = metrics.r2_score(rel_humidity, predictions)\n",
    "all_accuracies.append(accuracy)\n",
    "r2_alls.append(r2_all)\n",
    "\n",
    "\n",
    "print(\"1-89 Sols\")\n",
    "print(\"R^2 for Boom 1 Temperature:\", r2_temp1)               \n",
    "print(\"R^2 for Boom 2 Temperature:\", r2_temp2)\n",
    "print(\"R^2 for Ambient Temperature:\", r2_amb_temp)\n",
    "print(\"R^2 for Pressure:\", r2_press)\n",
    "print(\"R^2 for All Temperatures:\", r2_all_temps)\n",
    "print(\"R^2 for All:\", r2_all)"
   ]
  },
  {
   "cell_type": "code",
   "execution_count": null,
   "metadata": {},
   "outputs": [],
   "source": []
  },
  {
   "cell_type": "code",
   "execution_count": null,
   "metadata": {},
   "outputs": [],
   "source": []
  },
  {
   "cell_type": "code",
   "execution_count": null,
   "metadata": {},
   "outputs": [],
   "source": []
  },
  {
   "cell_type": "code",
   "execution_count": null,
   "metadata": {},
   "outputs": [],
   "source": []
  },
  {
   "cell_type": "code",
   "execution_count": 27,
   "metadata": {},
   "outputs": [
    {
     "name": "stdout",
     "output_type": "stream",
     "text": [
      "[0.8245994713967881, 0.824700181204222, 0.8247765674892203]\n"
     ]
    },
    {
     "data": {
      "image/png": "[encoded data removed]",
      "text/plain": [
       "<Figure size 432x288 with 1 Axes>"
      ]
     },
     "metadata": {
      "needs_background": "light"
     },
     "output_type": "display_data"
    }
   ],
   "source": [
    "from sklearn.model_selection import KFold # import KFold\n",
    "all_temp_x = new_df[['boom1_local_air_temperature','boom2_local_air_temperature','ambient_temperature']].values\n",
    "\n",
    "X = all_temp_x\n",
    "y = rel_humidity\n",
    "scores = []\n",
    "kfold = KFold(n_splits=3, shuffle=True, random_state=42)\n",
    "first_predictor = []\n",
    "first_x = []\n",
    "first_y = []\n",
    "for i, (train, test) in enumerate(kfold.split(X, y)):\n",
    "    \n",
    "    model = linreg.fit(X[train,:], y[train,:])\n",
    "    score = linreg.score(X[test,:], y[test,:])\n",
    "    all_temp_test = X[test,:]\n",
    "#     print(len(predictor))\n",
    "    scores.append(score)\n",
    "    predictor = linreg.predict(all_temp_test)\n",
    "    if i == 0:\n",
    "\n",
    "        for triplet in X[test,:]:\n",
    "            first_x.append(np.average(triplet))\n",
    "        for triplet in y[test,:]:\n",
    "            first_y.append(np.average(triplet))\n",
    "#         for item in X[test,:]:\n",
    "#             first_x.append(item[0])\n",
    "#         for item in y[test,:]:\n",
    "#             first_y.append(item[0])\n",
    "#         for item in predictor:\n",
    "#             first_predictor.append(item[0])\n",
    "        plt.plot(first_x, first_y, linestyle = '', marker = 'o')\n",
    "        \n",
    "        plt.plot(first_x, predictor, color = 'red')\n",
    "print(scores)\n"
   ]
  },
  {
   "cell_type": "code",
   "execution_count": 68,
   "metadata": {},
   "outputs": [
    {
     "name": "stdout",
     "output_type": "stream",
     "text": [
      "Cross-validated scores: [0.82481704 0.82375639 0.82485362 0.82448464 0.8249257 ]\n",
      "Cross-Predicted Accuracy: 0.8245697062926831\n"
     ]
    },
    {
     "data": {
      "image/png": "[encoded data removed]",
      "text/plain": [
       "<Figure size 432x288 with 1 Axes>"
      ]
     },
     "metadata": {
      "needs_background": "light"
     },
     "output_type": "display_data"
    }
   ],
   "source": [
    "# fit a model\n",
    "\n",
    "lm = linear_model.LinearRegression()\n",
    "model = lm.fit(all_temp_train, rel_hum_train)\n",
    "# predictions = lm.predict(all_temp_test)\n",
    "from sklearn.model_selection import KFold # import KFold\n",
    "X = all_temp_x\n",
    "y = rel_humidity\n",
    "# kf = KFold(n_splits=2) # Define the split - into 2 folds \n",
    "# kf.get_n_splits(X) # returns the number of splitting iterations in the cross-validator\n",
    "\n",
    "# Perform 5-fold cross validation\n",
    "scores = cross_val_score(model, all_temp_test, rel_hum_test, cv=5)\n",
    "print('Cross-validated scores:', scores)\n",
    "# Make cross validated predictions\n",
    "first_x = []\n",
    "for triplet in all_temp_test:\n",
    "    first_x.append(np.average(triplet))\n",
    "predictions = cross_val_predict(model, all_temp_test, rel_hum_test, cv=5)\n",
    "plt.plot(first_x, rel_hum_test, marker = 'o', linestyle = '')\n",
    "# plt.plot(press_test, rel_hum_test, linestyle='', marker = 'o', markersize=0.7, color = 'm')\n",
    "# plt.plot(press_test, hum_pred, color='red', linewidth=2)\n",
    "accuracy = metrics.r2_score(rel_hum_test, predictions)\n",
    "print('Cross-Predicted Accuracy:', accuracy)"
   ]
  },
  {
   "cell_type": "code",
   "execution_count": 69,
   "metadata": {},
   "outputs": [
    {
     "data": {
      "text/plain": [
       "[<matplotlib.lines.Line2D at 0x7f7fe2cc7cf8>]"
      ]
     },
     "execution_count": 69,
     "metadata": {},
     "output_type": "execute_result"
    },
    {
     "data": {
      "image/png": "[encoded data removed]",
      "text/plain": [
       "<Figure size 432x288 with 1 Axes>"
      ]
     },
     "metadata": {
      "needs_background": "light"
     },
     "output_type": "display_data"
    }
   ],
   "source": [
    "plt.plot(first_x, rel_hum_test, marker = 'o', linestyle = '')"
   ]
  },
  {
   "cell_type": "code",
   "execution_count": 70,
   "metadata": {},
   "outputs": [
    {
     "data": {
      "text/plain": [
       "[<matplotlib.lines.Line2D at 0x7f7fe2db01d0>]"
      ]
     },
     "execution_count": 70,
     "metadata": {},
     "output_type": "execute_result"
    },
    {
     "data": {
      "image/png": "[encoded data removed]",
      "text/plain": [
       "<Figure size 432x288 with 1 Axes>"
      ]
     },
     "metadata": {
      "needs_background": "light"
     },
     "output_type": "display_data"
    }
   ],
   "source": [
    "plt.plot(first_x, predictions)"
   ]
  },
  {
   "cell_type": "code",
   "execution_count": 71,
   "metadata": {},
   "outputs": [
    {
     "name": "stdout",
     "output_type": "stream",
     "text": [
      "Cross-validated scores: [0.83215305 0.86569968 0.77687041 0.80244789 0.80041007]\n",
      "Cross-Predicted Accuracy: 0.8150924530496848\n"
     ]
    },
    {
     "data": {
      "image/png": "[encoded data removed]",
      "text/plain": [
       "<Figure size 432x288 with 1 Axes>"
      ]
     },
     "metadata": {
      "needs_background": "light"
     },
     "output_type": "display_data"
    }
   ],
   "source": [
    "\n",
    "lm = linear_model.LinearRegression()\n",
    "model = lm.fit(all_temp_train, rel_hum_train)\n",
    "# predictions = lm.predict(all_temp_test)\n",
    "from sklearn.model_selection import KFold # import KFold\n",
    "X = all_temp_x\n",
    "y = rel_humidity\n",
    "# kf = KFold(n_splits=2) # Define the split - into 2 folds \n",
    "# kf.get_n_splits(X) # returns the number of splitting iterations in the cross-validator\n",
    "\n",
    "# Perform 5-fold cross validation\n",
    "scores = cross_val_score(model, all_temp_x, rel_humidity, cv=5)\n",
    "print('Cross-validated scores:', scores)\n",
    "# Make cross validated predictions\n",
    "first_x = []\n",
    "for triplet in all_temp_test:\n",
    "    first_x.append(np.average(triplet))\n",
    "predictions = cross_val_predict(model, all_temp_x, rel_humidity, cv=5)\n",
    "# plt.plot(first_x, rel_hum_test, marker = 'o', linestyle = '')\n",
    "# plt.plot(press_test, rel_hum_test, linestyle='', marker = 'o', markersize=0.7, color = 'm')\n",
    "# plt.plot(press_test, hum_pred, color='red', linewidth=2)\n",
    "accuracy = metrics.r2_score(rel_humidity, predictions)\n",
    "print('Cross-Predicted Accuracy:', accuracy)"
   ]
  },
  {
   "cell_type": "code",
   "execution_count": 78,
   "metadata": {},
   "outputs": [
    {
     "data": {
      "text/plain": [
       "[<matplotlib.lines.Line2D at 0x7f7fe2e03438>]"
      ]
     },
     "execution_count": 78,
     "metadata": {},
     "output_type": "execute_result"
    },
    {
     "data": {
      "image/png": "[encoded data removed]",
      "text/plain": [
       "<Figure size 432x288 with 1 Axes>"
      ]
     },
     "metadata": {
      "needs_background": "light"
     },
     "output_type": "display_data"
    }
   ],
   "source": [
    "\n",
    "lm = linear_model.LinearRegression()\n",
    "model = lm.fit(all_temp_train, rel_hum_train)\n",
    "\n",
    "# Perform 5-fold cross validation\n",
    "amb_temp = new_df[['ambient_temperature']].values.reshape(-1,1)\n",
    "scores = cross_val_score(model, amb_temp, rel_humidity, cv=5)\n",
    "predictions = cross_val_predict(model, amb_temp, rel_humidity, cv=5)\n",
    "accuracy = metrics.r2_score(rel_humidity, predictions)\n",
    "plt.plot(amb_temp, rel_humidity, marker = 'o', markersize=0.7, linestyle = '')\n",
    "plt.plot(amb_temp, predictions, color = 'red', linewidth=2)"
   ]
  },
  {
   "cell_type": "code",
   "execution_count": 79,
   "metadata": {},
   "outputs": [
    {
     "data": {
      "text/plain": [
       "array([0.80341409, 0.85366128, 0.8057332 , 0.77952241, 0.78738279])"
      ]
     },
     "execution_count": 79,
     "metadata": {},
     "output_type": "execute_result"
    }
   ],
   "source": [
    "scores"
   ]
  },
  {
   "cell_type": "code",
   "execution_count": 80,
   "metadata": {},
   "outputs": [
    {
     "ename": "NameError",
     "evalue": "name 'all_accuracies' is not defined",
     "output_type": "error",
     "traceback": [
      "\u001b[0;31m---------------------------------------------------------------------------\u001b[0m",
      "\u001b[0;31mNameError\u001b[0m                                 Traceback (most recent call last)",
      "\u001b[0;32m<ipython-input-80-2bbd97dd6494>\u001b[0m in \u001b[0;36m<module>\u001b[0;34m\u001b[0m\n\u001b[1;32m      3\u001b[0m \u001b[0mpredictions\u001b[0m \u001b[0;34m=\u001b[0m \u001b[0mcross_val_predict\u001b[0m\u001b[0;34m(\u001b[0m\u001b[0mmodel\u001b[0m\u001b[0;34m,\u001b[0m \u001b[0mall_x\u001b[0m\u001b[0;34m,\u001b[0m \u001b[0mrel_humidity\u001b[0m\u001b[0;34m,\u001b[0m \u001b[0mcv\u001b[0m\u001b[0;34m=\u001b[0m\u001b[0;36m5\u001b[0m\u001b[0;34m)\u001b[0m\u001b[0;34m\u001b[0m\u001b[0m\n\u001b[1;32m      4\u001b[0m \u001b[0maccuracy\u001b[0m \u001b[0;34m=\u001b[0m \u001b[0mmetrics\u001b[0m\u001b[0;34m.\u001b[0m\u001b[0mr2_score\u001b[0m\u001b[0;34m(\u001b[0m\u001b[0mrel_humidity\u001b[0m\u001b[0;34m,\u001b[0m \u001b[0mpredictions\u001b[0m\u001b[0;34m)\u001b[0m\u001b[0;34m\u001b[0m\u001b[0m\n\u001b[0;32m----> 5\u001b[0;31m \u001b[0mall_accuracies\u001b[0m\u001b[0;34m.\u001b[0m\u001b[0mappend\u001b[0m\u001b[0;34m(\u001b[0m\u001b[0maccuracy\u001b[0m\u001b[0;34m)\u001b[0m\u001b[0;34m\u001b[0m\u001b[0m\n\u001b[0m\u001b[1;32m      6\u001b[0m \u001b[0mr2_alls\u001b[0m\u001b[0;34m.\u001b[0m\u001b[0mappend\u001b[0m\u001b[0;34m(\u001b[0m\u001b[0mnp\u001b[0m\u001b[0;34m.\u001b[0m\u001b[0maverage\u001b[0m\u001b[0;34m(\u001b[0m\u001b[0mscores\u001b[0m\u001b[0;34m)\u001b[0m\u001b[0;34m)\u001b[0m\u001b[0;34m\u001b[0m\u001b[0m\n",
      "\u001b[0;31mNameError\u001b[0m: name 'all_accuracies' is not defined"
     ]
    }
   ],
   "source": [
    "all_x = new_df[['boom1_local_air_temperature','boom2_local_air_temperature','ambient_temperature', 'pressure']].values\n",
    "scores = cross_val_score(model, all_x, rel_humidity, cv=5)\n",
    "predictions = cross_val_predict(model, all_x, rel_humidity, cv=5)\n",
    "accuracy = metrics.r2_score(rel_humidity, predictions)\n",
    "all_accuracies.append(accuracy)\n",
    "r2_alls.append(np.average(scores))"
   ]
  },
  {
   "cell_type": "code",
   "execution_count": null,
   "metadata": {},
   "outputs": [],
   "source": []
  }
 ],
 "metadata": {
  "kernelspec": {
   "display_name": "Python 3",
   "language": "python",
   "name": "python3"
  },
  "language_info": {
   "codemirror_mode": {
    "name": "ipython",
    "version": 3
   },
   "file_extension": ".py",
   "mimetype": "text/x-python",
   "name": "python",
   "nbconvert_exporter": "python",
   "pygments_lexer": "ipython3",
   "version": "3.5.2"
  }
 },
 "nbformat": 4,
 "nbformat_minor": 4
}
